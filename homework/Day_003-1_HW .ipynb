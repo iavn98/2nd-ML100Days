{
 "cells": [
  {
   "cell_type": "markdown",
   "metadata": {},
   "source": [
    "## 練習時間\n",
    "在小量的資料上，我們用眼睛就可以看得出來程式碼是否有跑出我們理想中的結果\n",
    "\n",
    "請嘗試想像一個你需要的資料結構 (裡面的值可以是隨機的)，然後用上述的方法把它變成 pandas DataFrame\n",
    "\n",
    "#### Ex: 想像一個 dataframe 有兩個欄位，一個是國家，一個是人口，求人口數最多的國家\n",
    "\n",
    "### Hints: [隨機產生數值](https://blog.csdn.net/christianashannon/article/details/78867204)"
   ]
  },
  {
   "cell_type": "code",
   "execution_count": 2,
   "metadata": {},
   "outputs": [],
   "source": [
    "import pandas as pd\n",
    "import numpy as np"
   ]
  },
  {
   "cell_type": "code",
   "execution_count": 3,
   "metadata": {},
   "outputs": [
    {
     "name": "stdout",
     "output_type": "stream",
     "text": [
      "      國家          人口\n",
      "0     日本   127103388\n",
      "1    俄羅斯   142470272\n",
      "2   孟加拉國   166280712\n",
      "3   奈及利亞   177155754\n",
      "4   巴基斯坦   196174380\n",
      "5     巴西   202656788\n",
      "6  印度尼西亞   253609643\n",
      "7     美國   318892103\n",
      "8     印度  1236344631\n",
      "9     中國  1355692576\n"
     ]
    }
   ],
   "source": [
    "data = {'國家':['日本','俄羅斯', '孟加拉國', '奈及利亞', '巴基斯坦', '巴西', '印度尼西亞', '美國', '印度', '中國' ],\n",
    "        '人口':[127103388, 142470272, 166280712, 177155754, 196174380, 202656788, 253609643, 318892103, 1236344631, 1355692576] }\n",
    "data_1 = pd.DataFrame(data)\n",
    "print(data_1)"
   ]
  },
  {
   "cell_type": "code",
   "execution_count": 20,
   "metadata": {},
   "outputs": [
    {
     "data": {
      "text/plain": [
       "9"
      ]
     },
     "execution_count": 20,
     "metadata": {},
     "output_type": "execute_result"
    }
   ],
   "source": [
    "data_1['人口'].idxmax()"
   ]
  },
  {
   "cell_type": "code",
   "execution_count": null,
   "metadata": {},
   "outputs": [],
   "source": []
  }
 ],
 "metadata": {
  "kernelspec": {
   "display_name": "Python 3",
   "language": "python",
   "name": "python3"
  },
  "language_info": {
   "codemirror_mode": {
    "name": "ipython",
    "version": 3
   },
   "file_extension": ".py",
   "mimetype": "text/x-python",
   "name": "python",
   "nbconvert_exporter": "python",
   "pygments_lexer": "ipython3",
   "version": "3.7.0"
  }
 },
 "nbformat": 4,
 "nbformat_minor": 2
}

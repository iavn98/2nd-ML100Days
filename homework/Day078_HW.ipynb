{
 "cells": [
  {
   "cell_type": "markdown",
   "metadata": {},
   "source": [
    "## Work\n",
    "1. 請嘗試將 preproc_x 替換成以每筆資料的 min/max 進行標準化至 -1 ~ 1 間，再進行訓練\n",
    "2. 請嘗試將 mlp 疊更深 (e.g 5~10 層)，進行訓練後觀察 learning curve 的走勢\n",
    "3. (optional) 請改用 GPU 進行訓練 (如果你有 GPU 的話)，比較使用 CPU 與 GPU 的訓練速度"
   ]
  },
  {
   "cell_type": "code",
   "execution_count": 34,
   "metadata": {},
   "outputs": [],
   "source": [
    "import os\n",
    "import tensorflow as tf\n",
    "from sklearn.preprocessing import MinMaxScaler"
   ]
  },
  {
   "cell_type": "code",
   "execution_count": 35,
   "metadata": {},
   "outputs": [],
   "source": [
    "train, test = tf.keras.datasets.cifar10.load_data()"
   ]
  },
  {
   "cell_type": "code",
   "execution_count": 36,
   "metadata": {},
   "outputs": [],
   "source": [
    "## 資料前處理\n",
    "def preproc_x(x, flatten=True):\n",
    "    x = x / 255.\n",
    "    if flatten:\n",
    "        x = x.reshape((len(x), -1))\n",
    "    return x\n",
    "\n",
    "def preproc_y(y, num_classes=10):\n",
    "    if y.shape[-1] == 1:\n",
    "        y = tf.keras.utils.to_categorical(y, num_classes)\n",
    "    return y   "
   ]
  },
  {
   "cell_type": "code",
   "execution_count": 37,
   "metadata": {},
   "outputs": [],
   "source": [
    "x_train, y_train = train\n",
    "x_test, y_test = test\n",
    "\n",
    "# Preproc the inputs\n",
    "x_train = preproc_x(x_train)\n",
    "x_test = preproc_x(x_test)\n",
    "\n",
    "# Preprc the outputs\n",
    "y_train = preproc_y(y_train)\n",
    "y_test = preproc_y(y_test)"
   ]
  },
  {
   "cell_type": "code",
   "execution_count": 38,
   "metadata": {},
   "outputs": [
    {
     "data": {
      "text/plain": [
       "(50000, 3072)"
      ]
     },
     "execution_count": 38,
     "metadata": {},
     "output_type": "execute_result"
    }
   ],
   "source": [
    "x_train.shape"
   ]
  },
  {
   "cell_type": "code",
   "execution_count": 39,
   "metadata": {},
   "outputs": [
    {
     "name": "stdout",
     "output_type": "stream",
     "text": [
      "_________________________________________________________________\n",
      "Layer (type)                 Output Shape              Param #   \n",
      "=================================================================\n",
      "input_1 (InputLayer)         (None, 3072)              0         \n",
      "_________________________________________________________________\n",
      "hidden_layer1 (Dense)        (None, 512)               1573376   \n",
      "_________________________________________________________________\n",
      "hidden_layer2 (Dense)        (None, 256)               131328    \n",
      "_________________________________________________________________\n",
      "hidden_layer3 (Dense)        (None, 256)               65792     \n",
      "_________________________________________________________________\n",
      "hidden_layer4 (Dense)        (None, 128)               32896     \n",
      "_________________________________________________________________\n",
      "hidden_layer5 (Dense)        (None, 128)               16512     \n",
      "_________________________________________________________________\n",
      "output (Dense)               (None, 10)                1290      \n",
      "=================================================================\n",
      "Total params: 1,821,194\n",
      "Trainable params: 1,821,194\n",
      "Non-trainable params: 0\n",
      "_________________________________________________________________\n"
     ]
    }
   ],
   "source": [
    "def build_mlp(input_shape, output_units=10, num_neurons=[512,256, 256, 128,128]):\n",
    "    input_layer = tf.keras.layers.Input(input_shape)\n",
    "    \n",
    "    for i, n_units in enumerate(num_neurons):\n",
    "        if i == 0:\n",
    "            x = tf.keras.layers.Dense(units=n_units, activation=\"relu\", name=\"hidden_layer\"+str(i+1))(input_layer)\n",
    "        else:\n",
    "            x = tf.keras.layers.Dense(units=n_units, activation=\"relu\", name=\"hidden_layer\"+str(i+1))(x)\n",
    "    \n",
    "    out = tf.keras.layers.Dense(units=output_units, activation=\"softmax\", name=\"output\")(x)\n",
    "    \n",
    "    model = tf.keras.models.Model(inputs=[input_layer], outputs=[out])\n",
    "    return model\n",
    "model=build_mlp(input_shape=x_train.shape[1:])\n",
    "model.summary()"
   ]
  },
  {
   "cell_type": "code",
   "execution_count": 40,
   "metadata": {},
   "outputs": [],
   "source": [
    "## 超參數設定\n",
    "LEARNING_RATE = 0.001\n",
    "EPOCHS = 100\n",
    "BATCH_SIZE = 256"
   ]
  },
  {
   "cell_type": "code",
   "execution_count": 42,
   "metadata": {},
   "outputs": [],
   "source": [
    "optimizer = tf.keras.optimizers.Adam(lr=LEARNING_RATE)\n",
    "model.compile(loss=\"categorical_crossentropy\", metrics=[\"accuracy\"], optimizer=optimizer)"
   ]
  },
  {
   "cell_type": "code",
   "execution_count": 43,
   "metadata": {},
   "outputs": [
    {
     "name": "stdout",
     "output_type": "stream",
     "text": [
      "Train on 50000 samples, validate on 10000 samples\n",
      "WARNING:tensorflow:From C:\\Users\\Gankinck\\Anaconda3\\lib\\site-packages\\tensorflow\\python\\ops\\math_ops.py:3066: to_int32 (from tensorflow.python.ops.math_ops) is deprecated and will be removed in a future version.\n",
      "Instructions for updating:\n",
      "Use tf.cast instead.\n",
      "Epoch 1/100\n",
      "50000/50000 [==============================] - 17s 334us/sample - loss: 1.9144 - acc: 0.3012 - val_loss: 1.8045 - val_acc: 0.3363\n",
      "Epoch 2/100\n",
      "50000/50000 [==============================] - 19s 373us/sample - loss: 1.7155 - acc: 0.3830 - val_loss: 1.6343 - val_acc: 0.4145\n",
      "Epoch 3/100\n",
      "50000/50000 [==============================] - 23s 454us/sample - loss: 1.6167 - acc: 0.4193 - val_loss: 1.5639 - val_acc: 0.4354\n",
      "Epoch 4/100\n",
      "50000/50000 [==============================] - 21s 412us/sample - loss: 1.5549 - acc: 0.4427 - val_loss: 1.5680 - val_acc: 0.4372\n",
      "Epoch 5/100\n",
      "50000/50000 [==============================] - 20s 401us/sample - loss: 1.5064 - acc: 0.4593 - val_loss: 1.5319 - val_acc: 0.4604\n",
      "Epoch 6/100\n",
      "50000/50000 [==============================] - 20s 393us/sample - loss: 1.4624 - acc: 0.4774 - val_loss: 1.4852 - val_acc: 0.4712\n",
      "Epoch 7/100\n",
      "50000/50000 [==============================] - 19s 385us/sample - loss: 1.4327 - acc: 0.4878 - val_loss: 1.4464 - val_acc: 0.4864\n",
      "Epoch 8/100\n",
      "50000/50000 [==============================] - 17s 342us/sample - loss: 1.4025 - acc: 0.4970 - val_loss: 1.4937 - val_acc: 0.4732\n",
      "Epoch 9/100\n",
      "50000/50000 [==============================] - 18s 353us/sample - loss: 1.3802 - acc: 0.5065 - val_loss: 1.4749 - val_acc: 0.4770\n",
      "Epoch 10/100\n",
      "50000/50000 [==============================] - 19s 376us/sample - loss: 1.3553 - acc: 0.5155 - val_loss: 1.4865 - val_acc: 0.4767\n",
      "Epoch 11/100\n",
      "50000/50000 [==============================] - 19s 383us/sample - loss: 1.3194 - acc: 0.5278 - val_loss: 1.4143 - val_acc: 0.4987\n",
      "Epoch 12/100\n",
      "50000/50000 [==============================] - 29s 587us/sample - loss: 1.3005 - acc: 0.5342 - val_loss: 1.4091 - val_acc: 0.5040\n",
      "Epoch 13/100\n",
      "50000/50000 [==============================] - 20s 409us/sample - loss: 1.2675 - acc: 0.5463 - val_loss: 1.4152 - val_acc: 0.4956\n",
      "Epoch 14/100\n",
      "50000/50000 [==============================] - 28s 555us/sample - loss: 1.2528 - acc: 0.5491 - val_loss: 1.3963 - val_acc: 0.5048\n",
      "Epoch 15/100\n",
      "50000/50000 [==============================] - 23s 463us/sample - loss: 1.2197 - acc: 0.5632 - val_loss: 1.4077 - val_acc: 0.5039\n",
      "Epoch 16/100\n",
      "50000/50000 [==============================] - 20s 393us/sample - loss: 1.1945 - acc: 0.5719 - val_loss: 1.3902 - val_acc: 0.5058\n",
      "Epoch 17/100\n",
      "50000/50000 [==============================] - 19s 375us/sample - loss: 1.1672 - acc: 0.5833 - val_loss: 1.3921 - val_acc: 0.5155\n",
      "Epoch 18/100\n",
      "50000/50000 [==============================] - 19s 372us/sample - loss: 1.1554 - acc: 0.5845 - val_loss: 1.3904 - val_acc: 0.5155\n",
      "Epoch 19/100\n",
      "50000/50000 [==============================] - 26s 529us/sample - loss: 1.1248 - acc: 0.5968 - val_loss: 1.4108 - val_acc: 0.5132\n",
      "Epoch 20/100\n",
      "50000/50000 [==============================] - 22s 446us/sample - loss: 1.0940 - acc: 0.6086 - val_loss: 1.4092 - val_acc: 0.5197\n",
      "Epoch 21/100\n",
      "50000/50000 [==============================] - 18s 354us/sample - loss: 1.0721 - acc: 0.6168 - val_loss: 1.3827 - val_acc: 0.5210\n",
      "Epoch 22/100\n",
      "50000/50000 [==============================] - 16s 325us/sample - loss: 1.0425 - acc: 0.6250 - val_loss: 1.4350 - val_acc: 0.5157\n",
      "Epoch 23/100\n",
      "50000/50000 [==============================] - 17s 336us/sample - loss: 1.0196 - acc: 0.6340 - val_loss: 1.4536 - val_acc: 0.5174\n",
      "Epoch 24/100\n",
      "50000/50000 [==============================] - 18s 370us/sample - loss: 1.0010 - acc: 0.6407 - val_loss: 1.4293 - val_acc: 0.5164\n",
      "Epoch 25/100\n",
      "50000/50000 [==============================] - 21s 425us/sample - loss: 0.9735 - acc: 0.6497 - val_loss: 1.4384 - val_acc: 0.5134\n",
      "Epoch 26/100\n",
      "50000/50000 [==============================] - 19s 388us/sample - loss: 0.9455 - acc: 0.6611 - val_loss: 1.4863 - val_acc: 0.5137\n",
      "Epoch 27/100\n",
      "50000/50000 [==============================] - 16s 319us/sample - loss: 0.9233 - acc: 0.6701 - val_loss: 1.4795 - val_acc: 0.5227\n",
      "Epoch 28/100\n",
      "50000/50000 [==============================] - 16s 322us/sample - loss: 0.8971 - acc: 0.6770 - val_loss: 1.4686 - val_acc: 0.5188\n",
      "Epoch 29/100\n",
      "50000/50000 [==============================] - 16s 322us/sample - loss: 0.8834 - acc: 0.6808 - val_loss: 1.5558 - val_acc: 0.5120\n",
      "Epoch 30/100\n",
      "50000/50000 [==============================] - 16s 322us/sample - loss: 0.8697 - acc: 0.6866 - val_loss: 1.6017 - val_acc: 0.5055\n",
      "Epoch 31/100\n",
      "50000/50000 [==============================] - 16s 320us/sample - loss: 0.8225 - acc: 0.7036 - val_loss: 1.5485 - val_acc: 0.5137\n",
      "Epoch 32/100\n",
      "50000/50000 [==============================] - 16s 320us/sample - loss: 0.8104 - acc: 0.7095 - val_loss: 1.5593 - val_acc: 0.5119\n",
      "Epoch 33/100\n",
      "50000/50000 [==============================] - 16s 321us/sample - loss: 0.7883 - acc: 0.7175 - val_loss: 1.5823 - val_acc: 0.5173\n",
      "Epoch 34/100\n",
      "50000/50000 [==============================] - 16s 321us/sample - loss: 0.7714 - acc: 0.7228 - val_loss: 1.6391 - val_acc: 0.5112\n",
      "Epoch 35/100\n",
      "50000/50000 [==============================] - 16s 320us/sample - loss: 0.7477 - acc: 0.7305 - val_loss: 1.6782 - val_acc: 0.5114\n",
      "Epoch 36/100\n",
      "50000/50000 [==============================] - 16s 320us/sample - loss: 0.7095 - acc: 0.7430 - val_loss: 1.7383 - val_acc: 0.5083\n",
      "Epoch 37/100\n",
      "50000/50000 [==============================] - 16s 320us/sample - loss: 0.6909 - acc: 0.7488 - val_loss: 1.7299 - val_acc: 0.5106\n",
      "Epoch 38/100\n",
      "50000/50000 [==============================] - 16s 320us/sample - loss: 0.6782 - acc: 0.7549 - val_loss: 1.8004 - val_acc: 0.5068\n",
      "Epoch 39/100\n",
      "50000/50000 [==============================] - 16s 320us/sample - loss: 0.6794 - acc: 0.7560 - val_loss: 1.8053 - val_acc: 0.5121\n",
      "Epoch 40/100\n",
      "50000/50000 [==============================] - 16s 321us/sample - loss: 0.6370 - acc: 0.7697 - val_loss: 1.8641 - val_acc: 0.5096\n",
      "Epoch 41/100\n",
      "50000/50000 [==============================] - 16s 322us/sample - loss: 0.6254 - acc: 0.7753 - val_loss: 1.8795 - val_acc: 0.5041\n",
      "Epoch 42/100\n",
      "50000/50000 [==============================] - 16s 321us/sample - loss: 0.6310 - acc: 0.7729 - val_loss: 1.9301 - val_acc: 0.4973\n",
      "Epoch 43/100\n",
      "50000/50000 [==============================] - 16s 323us/sample - loss: 0.5796 - acc: 0.7926 - val_loss: 2.0297 - val_acc: 0.5048\n",
      "Epoch 44/100\n",
      "50000/50000 [==============================] - 16s 321us/sample - loss: 0.5710 - acc: 0.7937 - val_loss: 1.9889 - val_acc: 0.5028\n",
      "Epoch 45/100\n",
      "50000/50000 [==============================] - 16s 321us/sample - loss: 0.5541 - acc: 0.8002 - val_loss: 1.9986 - val_acc: 0.5039\n",
      "Epoch 46/100\n",
      "50000/50000 [==============================] - 16s 322us/sample - loss: 0.5378 - acc: 0.8056 - val_loss: 2.0402 - val_acc: 0.5070\n",
      "Epoch 47/100\n",
      "50000/50000 [==============================] - 16s 322us/sample - loss: 0.5303 - acc: 0.8084 - val_loss: 2.0865 - val_acc: 0.5017\n",
      "Epoch 48/100\n",
      "50000/50000 [==============================] - 16s 323us/sample - loss: 0.4991 - acc: 0.8205 - val_loss: 2.2416 - val_acc: 0.4992\n",
      "Epoch 49/100\n",
      "50000/50000 [==============================] - 16s 322us/sample - loss: 0.5102 - acc: 0.8183 - val_loss: 2.2741 - val_acc: 0.4987\n",
      "Epoch 50/100\n",
      "50000/50000 [==============================] - 16s 320us/sample - loss: 0.4825 - acc: 0.8265 - val_loss: 2.2884 - val_acc: 0.5021\n",
      "Epoch 51/100\n",
      "50000/50000 [==============================] - 16s 321us/sample - loss: 0.4694 - acc: 0.8311 - val_loss: 2.3117 - val_acc: 0.5036\n",
      "Epoch 52/100\n",
      "50000/50000 [==============================] - 16s 319us/sample - loss: 0.4466 - acc: 0.8392 - val_loss: 2.3700 - val_acc: 0.4960\n",
      "Epoch 53/100\n",
      "50000/50000 [==============================] - 16s 321us/sample - loss: 0.4663 - acc: 0.8311 - val_loss: 2.3267 - val_acc: 0.4953\n",
      "Epoch 54/100\n",
      "50000/50000 [==============================] - 16s 323us/sample - loss: 0.4551 - acc: 0.8358 - val_loss: 2.3946 - val_acc: 0.4984\n",
      "Epoch 55/100\n",
      "50000/50000 [==============================] - 16s 321us/sample - loss: 0.4183 - acc: 0.8487 - val_loss: 2.5073 - val_acc: 0.5015\n",
      "Epoch 56/100\n"
     ]
    },
    {
     "name": "stdout",
     "output_type": "stream",
     "text": [
      "50000/50000 [==============================] - 16s 323us/sample - loss: 0.4455 - acc: 0.8379 - val_loss: 2.5134 - val_acc: 0.5055\n",
      "Epoch 57/100\n",
      "50000/50000 [==============================] - 16s 320us/sample - loss: 0.3989 - acc: 0.8564 - val_loss: 2.6000 - val_acc: 0.5015\n",
      "Epoch 58/100\n",
      "50000/50000 [==============================] - 16s 322us/sample - loss: 0.3978 - acc: 0.8553 - val_loss: 2.6592 - val_acc: 0.5017\n",
      "Epoch 59/100\n",
      "50000/50000 [==============================] - 16s 321us/sample - loss: 0.4137 - acc: 0.8485 - val_loss: 2.6070 - val_acc: 0.5009\n",
      "Epoch 60/100\n",
      "50000/50000 [==============================] - 16s 322us/sample - loss: 0.4018 - acc: 0.8549 - val_loss: 2.6541 - val_acc: 0.4936\n",
      "Epoch 61/100\n",
      "50000/50000 [==============================] - 16s 321us/sample - loss: 0.3752 - acc: 0.8650 - val_loss: 2.6772 - val_acc: 0.4987\n",
      "Epoch 62/100\n",
      "50000/50000 [==============================] - 16s 321us/sample - loss: 0.3563 - acc: 0.8707 - val_loss: 2.7254 - val_acc: 0.5004\n",
      "Epoch 63/100\n",
      "50000/50000 [==============================] - 16s 321us/sample - loss: 0.3555 - acc: 0.8703 - val_loss: 2.7155 - val_acc: 0.4984\n",
      "Epoch 64/100\n",
      "50000/50000 [==============================] - 16s 321us/sample - loss: 0.3658 - acc: 0.8691 - val_loss: 2.7506 - val_acc: 0.4872\n",
      "Epoch 65/100\n",
      "50000/50000 [==============================] - 16s 319us/sample - loss: 0.3594 - acc: 0.8694 - val_loss: 2.7936 - val_acc: 0.4943\n",
      "Epoch 66/100\n",
      "50000/50000 [==============================] - 16s 319us/sample - loss: 0.3536 - acc: 0.8726 - val_loss: 2.9251 - val_acc: 0.4966\n",
      "Epoch 67/100\n",
      "50000/50000 [==============================] - 16s 320us/sample - loss: 0.3149 - acc: 0.8857 - val_loss: 3.0155 - val_acc: 0.4973\n",
      "Epoch 68/100\n",
      "50000/50000 [==============================] - 16s 319us/sample - loss: 0.3274 - acc: 0.8820 - val_loss: 2.9978 - val_acc: 0.4962\n",
      "Epoch 69/100\n",
      "50000/50000 [==============================] - 16s 320us/sample - loss: 0.3149 - acc: 0.8862 - val_loss: 3.1080 - val_acc: 0.4846\n",
      "Epoch 70/100\n",
      "50000/50000 [==============================] - 16s 320us/sample - loss: 0.3322 - acc: 0.8798 - val_loss: 2.9627 - val_acc: 0.4903\n",
      "Epoch 71/100\n",
      "50000/50000 [==============================] - 16s 321us/sample - loss: 0.3323 - acc: 0.8807 - val_loss: 3.0474 - val_acc: 0.4907\n",
      "Epoch 72/100\n",
      "50000/50000 [==============================] - 16s 320us/sample - loss: 0.3244 - acc: 0.8824 - val_loss: 3.0574 - val_acc: 0.4926\n",
      "Epoch 73/100\n",
      "50000/50000 [==============================] - 16s 321us/sample - loss: 0.2872 - acc: 0.8961 - val_loss: 3.0835 - val_acc: 0.4999\n",
      "Epoch 74/100\n",
      "50000/50000 [==============================] - 16s 319us/sample - loss: 0.3169 - acc: 0.8853 - val_loss: 3.0687 - val_acc: 0.4915\n",
      "Epoch 75/100\n",
      "50000/50000 [==============================] - 16s 319us/sample - loss: 0.2854 - acc: 0.8971 - val_loss: 3.1447 - val_acc: 0.4858\n",
      "Epoch 76/100\n",
      "50000/50000 [==============================] - 16s 320us/sample - loss: 0.3010 - acc: 0.8921 - val_loss: 3.1366 - val_acc: 0.4959\n",
      "Epoch 77/100\n",
      "50000/50000 [==============================] - 16s 323us/sample - loss: 0.2820 - acc: 0.8985 - val_loss: 3.1673 - val_acc: 0.5008\n",
      "Epoch 78/100\n",
      "50000/50000 [==============================] - 16s 322us/sample - loss: 0.2774 - acc: 0.9004 - val_loss: 3.2502 - val_acc: 0.4863\n",
      "Epoch 79/100\n",
      "50000/50000 [==============================] - 16s 321us/sample - loss: 0.2742 - acc: 0.9016 - val_loss: 3.2571 - val_acc: 0.4924\n",
      "Epoch 80/100\n",
      "50000/50000 [==============================] - 16s 321us/sample - loss: 0.3136 - acc: 0.8893 - val_loss: 3.2908 - val_acc: 0.4889\n",
      "Epoch 81/100\n",
      "50000/50000 [==============================] - 16s 319us/sample - loss: 0.2950 - acc: 0.8931 - val_loss: 3.1933 - val_acc: 0.4885\n",
      "Epoch 82/100\n",
      "50000/50000 [==============================] - 16s 319us/sample - loss: 0.2873 - acc: 0.8970 - val_loss: 3.3328 - val_acc: 0.4954\n",
      "Epoch 83/100\n",
      "50000/50000 [==============================] - 16s 323us/sample - loss: 0.2804 - acc: 0.9001 - val_loss: 3.2031 - val_acc: 0.4859\n",
      "Epoch 84/100\n",
      "50000/50000 [==============================] - 16s 320us/sample - loss: 0.2788 - acc: 0.9016 - val_loss: 3.3837 - val_acc: 0.4891\n",
      "Epoch 85/100\n",
      "50000/50000 [==============================] - 16s 319us/sample - loss: 0.2513 - acc: 0.9116 - val_loss: 3.3530 - val_acc: 0.4982\n",
      "Epoch 86/100\n",
      "50000/50000 [==============================] - 16s 320us/sample - loss: 0.2325 - acc: 0.9172 - val_loss: 3.4498 - val_acc: 0.4916\n",
      "Epoch 87/100\n",
      "50000/50000 [==============================] - 16s 320us/sample - loss: 0.2773 - acc: 0.9010 - val_loss: 3.2558 - val_acc: 0.4881\n",
      "Epoch 88/100\n",
      "50000/50000 [==============================] - 16s 321us/sample - loss: 0.2242 - acc: 0.9189 - val_loss: 3.4501 - val_acc: 0.4898\n",
      "Epoch 89/100\n",
      "50000/50000 [==============================] - 16s 322us/sample - loss: 0.2589 - acc: 0.9058 - val_loss: 3.3833 - val_acc: 0.4983\n",
      "Epoch 90/100\n",
      "50000/50000 [==============================] - 16s 321us/sample - loss: 0.2463 - acc: 0.9121 - val_loss: 3.4163 - val_acc: 0.4954\n",
      "Epoch 91/100\n",
      "50000/50000 [==============================] - 16s 321us/sample - loss: 0.2476 - acc: 0.9126 - val_loss: 3.4214 - val_acc: 0.4952\n",
      "Epoch 92/100\n",
      "50000/50000 [==============================] - 16s 322us/sample - loss: 0.2468 - acc: 0.9137 - val_loss: 3.4929 - val_acc: 0.4871\n",
      "Epoch 93/100\n",
      "50000/50000 [==============================] - 16s 321us/sample - loss: 0.2612 - acc: 0.9084 - val_loss: 3.6320 - val_acc: 0.4888\n",
      "Epoch 94/100\n",
      "50000/50000 [==============================] - 16s 320us/sample - loss: 0.2380 - acc: 0.9160 - val_loss: 3.5021 - val_acc: 0.4934\n",
      "Epoch 95/100\n",
      "50000/50000 [==============================] - 16s 322us/sample - loss: 0.2633 - acc: 0.9088 - val_loss: 3.5058 - val_acc: 0.4890\n",
      "Epoch 96/100\n",
      "50000/50000 [==============================] - 16s 323us/sample - loss: 0.2156 - acc: 0.9235 - val_loss: 3.6119 - val_acc: 0.4894\n",
      "Epoch 97/100\n",
      "50000/50000 [==============================] - 16s 323us/sample - loss: 0.1932 - acc: 0.9314 - val_loss: 3.6975 - val_acc: 0.4861\n",
      "Epoch 98/100\n",
      "50000/50000 [==============================] - 16s 322us/sample - loss: 0.2299 - acc: 0.9191 - val_loss: 3.6841 - val_acc: 0.4906\n",
      "Epoch 99/100\n",
      "50000/50000 [==============================] - 16s 322us/sample - loss: 0.2323 - acc: 0.9188 - val_loss: 3.5786 - val_acc: 0.4815\n",
      "Epoch 100/100\n",
      "50000/50000 [==============================] - 16s 322us/sample - loss: 0.2619 - acc: 0.9082 - val_loss: 3.5653 - val_acc: 0.4838\n"
     ]
    },
    {
     "data": {
      "text/plain": [
       "<tensorflow.python.keras.callbacks.History at 0x1358df85a58>"
      ]
     },
     "execution_count": 43,
     "metadata": {},
     "output_type": "execute_result"
    }
   ],
   "source": [
    "model.fit(x_train, y_train, \n",
    "          epochs=EPOCHS, \n",
    "          batch_size=BATCH_SIZE, \n",
    "          validation_data=(x_test, y_test), \n",
    "          shuffle=True)"
   ]
  },
  {
   "cell_type": "code",
   "execution_count": 45,
   "metadata": {},
   "outputs": [
    {
     "data": {
      "image/png": "[encoded data removed]",
      "text/plain": [
       "<Figure size 432x288 with 1 Axes>"
      ]
     },
     "metadata": {
      "needs_background": "light"
     },
     "output_type": "display_data"
    },
    {
     "data": {
      "image/png": "[encoded data removed]",
      "text/plain": [
       "<Figure size 432x288 with 1 Axes>"
      ]
     },
     "metadata": {
      "needs_background": "light"
     },
     "output_type": "display_data"
    }
   ],
   "source": [
    "import matplotlib.pyplot as plt\n",
    "\n",
    "\n",
    "train_loss = model.history.history[\"loss\"]\n",
    "valid_loss = model.history.history[\"val_loss\"]\n",
    "\n",
    "train_acc = model.history.history[\"acc\"]\n",
    "valid_acc = model.history.history[\"val_acc\"]\n",
    "\n",
    "plt.plot(range(len(train_loss)), train_loss, label=\"train loss\")\n",
    "plt.plot(range(len(valid_loss)), valid_loss, label=\"valid loss\")\n",
    "plt.legend()\n",
    "plt.title(\"Loss\")\n",
    "plt.show()\n",
    "\n",
    "plt.plot(range(len(train_acc)), train_acc, label=\"train accuracy\")\n",
    "plt.plot(range(len(valid_acc)), valid_acc, label=\"valid accuracy\")\n",
    "plt.legend()\n",
    "plt.title(\"Accuracy\")\n",
    "plt.show()"
   ]
  },
  {
   "cell_type": "code",
   "execution_count": null,
   "metadata": {},
   "outputs": [],
   "source": []
  }
 ],
 "metadata": {
  "kernelspec": {
   "display_name": "Python 3",
   "language": "python",
   "name": "python3"
  },
  "language_info": {
   "codemirror_mode": {
    "name": "ipython",
    "version": 3
   },
   "file_extension": ".py",
   "mimetype": "text/x-python",
   "name": "python",
   "nbconvert_exporter": "python",
   "pygments_lexer": "ipython3",
   "version": "3.7.0"
  }
 },
 "nbformat": 4,
 "nbformat_minor": 2
}

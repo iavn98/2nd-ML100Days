{
 "cells": [
  {
   "cell_type": "markdown",
   "metadata": {},
   "source": [
    "## Work\n",
    "1. 請嘗試寫一個 callback 用來記錄各類別在訓練過程中，對驗證集的 True Positive 與 True Negative"
   ]
  },
  {
   "cell_type": "code",
   "execution_count": 9,
   "metadata": {},
   "outputs": [],
   "source": [
    "import os\n",
    "import keras\n",
    "import numpy as np\n",
    "from sklearn.metrics import confusion_matrix\n",
    "# Disable GPU\n",
    "os.environ[\"CUDA_VISIBLE_DEVICES\"] = \"\""
   ]
  },
  {
   "cell_type": "code",
   "execution_count": 10,
   "metadata": {},
   "outputs": [],
   "source": [
    "train, test = keras.datasets.cifar10.load_data()"
   ]
  },
  {
   "cell_type": "code",
   "execution_count": 11,
   "metadata": {},
   "outputs": [],
   "source": [
    "## 資料前處理\n",
    "def preproc_x(x, flatten=True):\n",
    "    x = x / 255.\n",
    "    if flatten:\n",
    "        x = x.reshape((len(x), -1))\n",
    "    return x\n",
    "\n",
    "def preproc_y(y, num_classes=10):\n",
    "    if y.shape[-1] == 1:\n",
    "        y = keras.utils.to_categorical(y, num_classes)\n",
    "    return y    "
   ]
  },
  {
   "cell_type": "code",
   "execution_count": 12,
   "metadata": {},
   "outputs": [],
   "source": [
    "x_train, y_train = train\n",
    "x_test, y_test = test\n",
    "\n",
    "# Preproc the inputs\n",
    "x_train = preproc_x(x_train)\n",
    "x_test = preproc_x(x_test)\n",
    "\n",
    "# Preprc the outputs\n",
    "y_train = preproc_y(y_train)\n",
    "y_test = preproc_y(y_test)"
   ]
  },
  {
   "cell_type": "code",
   "execution_count": 13,
   "metadata": {},
   "outputs": [],
   "source": [
    "from keras.layers import BatchNormalization\n",
    "def build_mlp(input_shape, output_units=10, num_neurons=[256, 256, 128]):\n",
    "    input_layer = keras.layers.Input(input_shape)\n",
    "    \n",
    "    for i, n_units in enumerate(num_neurons):\n",
    "        if i == 0:\n",
    "            x = keras.layers.Dense(units=n_units, \n",
    "                                   activation=\"relu\", \n",
    "                                   name=\"hidden_layer\"+str(i+1))(input_layer)\n",
    "            x = BatchNormalization()(x)\n",
    "        else:\n",
    "            x = keras.layers.Dense(units=n_units, \n",
    "                                   activation=\"relu\", \n",
    "                                   name=\"hidden_layer\"+str(i+1))(x)\n",
    "            x = BatchNormalization()(x)\n",
    "    \n",
    "    out = keras.layers.Dense(units=output_units, activation=\"softmax\", name=\"output\")(x)\n",
    "    \n",
    "    model = keras.models.Model(inputs=[input_layer], outputs=[out])\n",
    "    return model"
   ]
  },
  {
   "cell_type": "code",
   "execution_count": 14,
   "metadata": {},
   "outputs": [],
   "source": [
    "## 超參數設定\n",
    "LEARNING_RATE = 1e-3\n",
    "EPOCHS = 25\n",
    "BATCH_SIZE = 1024\n",
    "MOMENTUM = 0.95"
   ]
  },
  {
   "cell_type": "code",
   "execution_count": 15,
   "metadata": {},
   "outputs": [],
   "source": [
    "# 載入 Callbacks\n",
    "from keras.callbacks import Callback\n",
    "\n",
    "# Record_fp_tp\n",
    "class Record_tp_tn(Callback):\n",
    "    \"\"\"Define a callback function to collect tp/tn, named Record_fp_tp.\n",
    "    \n",
    "    \"\"\"\n",
    "    def on_train_begin(self, epoch, logs = {}):\n",
    "        logs = logs or {}\n",
    "        record_items = [\"val_auc\", \"val_f1sc\", \"val_fp\", \"val_fn\", \"val_tp\", \"val_tn\"]\n",
    "        for i in record_items:\n",
    "            if i not in self.params['metrics']:\n",
    "                self.params['metrics'].append(i)\n",
    "    \n",
    "    def on_epoch_end(self, epoch, logs = {}, thres=0.5):\n",
    "        logs = logs or {}\n",
    "        y_true = self.validation_data[1].argmax(axis = 1)\n",
    "        y_pred = self.model.predict(self.validation_data[0])\n",
    "        y_pred = (y_pred[:, 1] >= thres) * 1\n",
    "        #not_y_pred = np.logical_not(y_pred)      \n",
    "        cm = confusion_matrix(y_true, y_pred)\n",
    "        #print(cm)\n",
    "        logs[\"val_tp\"] = cm[0][0]\n",
    "        logs[\"val_fp\"] = cm[0][1]\n",
    "        logs[\"val_fn\"] = cm[1][0]\n",
    "        logs[\"val_tn\"] = cm[1][1]\n",
    "        \n",
    "        #logs[\"val_tp\"] = np.sum(y_pred * y_true * y_pred)\n",
    "        #logs[\"val_tn\"] = np.sum(not_y_pred * np.logical_not(y_true) * not_y_pred)\n",
    "        \n",
    "rec_tptn = Record_tp_tn()"
   ]
  },
  {
   "cell_type": "code",
   "execution_count": 16,
   "metadata": {
    "scrolled": true
   },
   "outputs": [
    {
     "name": "stdout",
     "output_type": "stream",
     "text": [
      "_________________________________________________________________\n",
      "Layer (type)                 Output Shape              Param #   \n",
      "=================================================================\n",
      "input_2 (InputLayer)         (None, 3072)              0         \n",
      "_________________________________________________________________\n",
      "hidden_layer1 (Dense)        (None, 256)               786688    \n",
      "_________________________________________________________________\n",
      "batch_normalization_4 (Batch (None, 256)               1024      \n",
      "_________________________________________________________________\n",
      "hidden_layer2 (Dense)        (None, 256)               65792     \n",
      "_________________________________________________________________\n",
      "batch_normalization_5 (Batch (None, 256)               1024      \n",
      "_________________________________________________________________\n",
      "hidden_layer3 (Dense)        (None, 128)               32896     \n",
      "_________________________________________________________________\n",
      "batch_normalization_6 (Batch (None, 128)               512       \n",
      "_________________________________________________________________\n",
      "output (Dense)               (None, 10)                1290      \n",
      "=================================================================\n",
      "Total params: 889,226\n",
      "Trainable params: 887,946\n",
      "Non-trainable params: 1,280\n",
      "_________________________________________________________________\n",
      "Train on 50000 samples, validate on 10000 samples\n",
      "Epoch 1/25\n",
      "50000/50000 [==============================] - 6s 118us/step - loss: 2.2910 - acc: 0.2535 - val_loss: 2.3671 - val_acc: 0.2761\n",
      "Epoch 2/25\n",
      "50000/50000 [==============================] - 5s 90us/step - loss: 1.7801 - acc: 0.3820 - val_loss: 1.8543 - val_acc: 0.3637\n",
      "Epoch 3/25\n",
      "50000/50000 [==============================] - 5s 92us/step - loss: 1.6523 - acc: 0.4196 - val_loss: 1.7392 - val_acc: 0.4039\n",
      "Epoch 4/25\n",
      "50000/50000 [==============================] - 5s 92us/step - loss: 1.5837 - acc: 0.4451 - val_loss: 1.6575 - val_acc: 0.4235\n",
      "Epoch 5/25\n",
      "50000/50000 [==============================] - 5s 94us/step - loss: 1.5323 - acc: 0.4625 - val_loss: 1.6089 - val_acc: 0.4387\n",
      "Epoch 6/25\n",
      "50000/50000 [==============================] - 5s 95us/step - loss: 1.4904 - acc: 0.4770 - val_loss: 1.5894 - val_acc: 0.4438\n",
      "Epoch 7/25\n",
      "50000/50000 [==============================] - 5s 96us/step - loss: 1.4559 - acc: 0.4901 - val_loss: 1.5470 - val_acc: 0.4546\n",
      "Epoch 8/25\n",
      "50000/50000 [==============================] - 5s 96us/step - loss: 1.4230 - acc: 0.5010 - val_loss: 1.5443 - val_acc: 0.4564\n",
      "Epoch 9/25\n",
      "50000/50000 [==============================] - 5s 95us/step - loss: 1.3959 - acc: 0.5115 - val_loss: 1.5362 - val_acc: 0.4623\n",
      "Epoch 10/25\n",
      "50000/50000 [==============================] - 5s 94us/step - loss: 1.3706 - acc: 0.5214 - val_loss: 1.5131 - val_acc: 0.4732\n",
      "Epoch 11/25\n",
      "50000/50000 [==============================] - 5s 96us/step - loss: 1.3441 - acc: 0.5293 - val_loss: 1.5003 - val_acc: 0.4660\n",
      "Epoch 12/25\n",
      "50000/50000 [==============================] - 5s 93us/step - loss: 1.3219 - acc: 0.5382 - val_loss: 1.4833 - val_acc: 0.4786\n",
      "Epoch 13/25\n",
      "50000/50000 [==============================] - 5s 95us/step - loss: 1.3011 - acc: 0.5452 - val_loss: 1.4855 - val_acc: 0.4750\n",
      "Epoch 14/25\n",
      "50000/50000 [==============================] - 5s 94us/step - loss: 1.2784 - acc: 0.5538 - val_loss: 1.4816 - val_acc: 0.4805\n",
      "Epoch 15/25\n",
      "50000/50000 [==============================] - 5s 94us/step - loss: 1.2584 - acc: 0.5600 - val_loss: 1.4708 - val_acc: 0.4813\n",
      "Epoch 16/25\n",
      "50000/50000 [==============================] - 5s 94us/step - loss: 1.2393 - acc: 0.5677 - val_loss: 1.4645 - val_acc: 0.4855\n",
      "Epoch 17/25\n",
      "50000/50000 [==============================] - 5s 92us/step - loss: 1.2209 - acc: 0.5735 - val_loss: 1.4698 - val_acc: 0.4830\n",
      "Epoch 18/25\n",
      "50000/50000 [==============================] - 5s 93us/step - loss: 1.2019 - acc: 0.5816 - val_loss: 1.4523 - val_acc: 0.4925\n",
      "Epoch 19/25\n",
      "50000/50000 [==============================] - 5s 93us/step - loss: 1.1823 - acc: 0.5893 - val_loss: 1.4538 - val_acc: 0.4876\n",
      "Epoch 20/25\n",
      "50000/50000 [==============================] - 5s 95us/step - loss: 1.1645 - acc: 0.5948 - val_loss: 1.4459 - val_acc: 0.4893\n",
      "Epoch 21/25\n",
      "50000/50000 [==============================] - 5s 93us/step - loss: 1.1471 - acc: 0.6012 - val_loss: 1.4415 - val_acc: 0.4973\n",
      "Epoch 22/25\n",
      "50000/50000 [==============================] - 5s 93us/step - loss: 1.1297 - acc: 0.6088 - val_loss: 1.4596 - val_acc: 0.4922\n",
      "Epoch 23/25\n",
      "50000/50000 [==============================] - 5s 94us/step - loss: 1.1151 - acc: 0.6137 - val_loss: 1.4541 - val_acc: 0.4927\n",
      "Epoch 24/25\n",
      "50000/50000 [==============================] - 5s 95us/step - loss: 1.0962 - acc: 0.6223 - val_loss: 1.4486 - val_acc: 0.4930\n",
      "Epoch 25/25\n",
      "50000/50000 [==============================] - 5s 94us/step - loss: 1.0806 - acc: 0.6267 - val_loss: 1.4349 - val_acc: 0.5043\n"
     ]
    }
   ],
   "source": [
    "model = build_mlp(input_shape=x_train.shape[1:])\n",
    "model.summary()\n",
    "optimizer = keras.optimizers.SGD(lr=LEARNING_RATE, nesterov=True, momentum=MOMENTUM)\n",
    "model.compile(loss=\"categorical_crossentropy\", metrics=[\"accuracy\"], optimizer=optimizer)\n",
    "\n",
    "\"\"\"\n",
    "To do:\n",
    "Fit the model with rec_tptn callback_fn\n",
    "\"\"\"\n",
    "model.fit(x_train, y_train, \n",
    "          epochs=EPOCHS, \n",
    "          batch_size=BATCH_SIZE, \n",
    "          validation_data=(x_test, y_test), \n",
    "          shuffle=True,\n",
    "          callbacks=[rec_tptn]\n",
    "         )\n",
    "\n",
    "\n",
    "# Collect results\n",
    "train_loss = model.history.history[\"loss\"]\n",
    "valid_loss = model.history.history[\"val_loss\"]\n",
    "train_acc = model.history.history[\"acc\"]\n",
    "valid_acc = model.history.history[\"val_acc\"]\n",
    "\n",
    "\"\"\"\n",
    "To do:\n",
    "Collect tp/tn from model history\n",
    "\"\"\"\n",
    "valid_tp = model.history.history['val_tp']\n",
    "valid_tn = model.history.history['val_tn']"
   ]
  },
  {
   "cell_type": "code",
   "execution_count": 17,
   "metadata": {},
   "outputs": [
    {
     "data": {
      "image/png": "[encoded data removed]",
      "text/plain": [
       "<Figure size 432x288 with 1 Axes>"
      ]
     },
     "metadata": {
      "needs_background": "light"
     },
     "output_type": "display_data"
    },
    {
     "data": {
      "image/png": "[encoded data removed]",
      "text/plain": [
       "<Figure size 432x288 with 1 Axes>"
      ]
     },
     "metadata": {
      "needs_background": "light"
     },
     "output_type": "display_data"
    },
    {
     "data": {
      "image/png": "[encoded data removed]",
      "text/plain": [
       "<Figure size 432x288 with 1 Axes>"
      ]
     },
     "metadata": {
      "needs_background": "light"
     },
     "output_type": "display_data"
    }
   ],
   "source": [
    "import matplotlib.pyplot as plt\n",
    "%matplotlib inline\n",
    "\n",
    "plt.plot(range(len(train_loss)), train_loss, label=\"train loss\")\n",
    "plt.plot(range(len(valid_loss)), valid_loss, label=\"valid loss\")\n",
    "plt.legend()\n",
    "plt.title(\"Loss\")\n",
    "plt.show()\n",
    "\n",
    "plt.plot(range(len(train_acc)), train_acc, label=\"train accuracy\")\n",
    "plt.plot(range(len(valid_acc)), valid_acc, label=\"valid accuracy\")\n",
    "plt.legend()\n",
    "plt.title(\"Accuracy\")\n",
    "plt.show()\n",
    "\n",
    "plt.plot(range(len(valid_tp)), valid_tp, label=\"valid tp\", color=\"navy\")\n",
    "plt.plot(range(len(valid_tn)), valid_tn, label=\"valid tn\", color=\"red\")\n",
    "plt.legend()\n",
    "plt.title(\"True positives and True Negatives\")\n",
    "plt.show()\n"
   ]
  },
  {
   "cell_type": "code",
   "execution_count": null,
   "metadata": {},
   "outputs": [],
   "source": []
  }
 ],
 "metadata": {
  "kernelspec": {
   "display_name": "Python 3",
   "language": "python",
   "name": "python3"
  },
  "language_info": {
   "codemirror_mode": {
    "name": "ipython",
    "version": 3
   },
   "file_extension": ".py",
   "mimetype": "text/x-python",
   "name": "python",
   "nbconvert_exporter": "python",
   "pygments_lexer": "ipython3",
   "version": "3.7.0"
  }
 },
 "nbformat": 4,
 "nbformat_minor": 2
}

{
 "cells": [
  {
   "cell_type": "markdown",
   "metadata": {},
   "source": [
    "## Work\n",
    "1. 試改變 monitor \"Validation Accuracy\" 並比較結果\n",
    "2. 調整 earlystop 的等待次數至 10, 25 並比較結果"
   ]
  },
  {
   "cell_type": "code",
   "execution_count": 1,
   "metadata": {},
   "outputs": [
    {
     "name": "stderr",
     "output_type": "stream",
     "text": [
      "Using TensorFlow backend.\n"
     ]
    }
   ],
   "source": [
    "import os\n",
    "import keras\n",
    "import matplotlib.pyplot as plt\n",
    "%matplotlib inline\n",
    "\n",
    "\n",
    "# Disable GPU\n",
    "os.environ[\"CUDA_VISIBLE_DEVICES\"] = \"\""
   ]
  },
  {
   "cell_type": "code",
   "execution_count": 2,
   "metadata": {},
   "outputs": [],
   "source": [
    "train, test = keras.datasets.cifar10.load_data()"
   ]
  },
  {
   "cell_type": "code",
   "execution_count": 3,
   "metadata": {},
   "outputs": [],
   "source": [
    "## 資料前處理\n",
    "def preproc_x(x, flatten=True):\n",
    "    x = x / 255.\n",
    "    if flatten:\n",
    "        x = x.reshape((len(x), -1))\n",
    "    return x\n",
    "\n",
    "def preproc_y(y, num_classes=10):\n",
    "    if y.shape[-1] == 1:\n",
    "        y = keras.utils.to_categorical(y, num_classes)\n",
    "    return y    "
   ]
  },
  {
   "cell_type": "code",
   "execution_count": 4,
   "metadata": {},
   "outputs": [],
   "source": [
    "x_train, y_train = train\n",
    "x_test, y_test = test\n",
    "\n",
    "# Preproc the inputs\n",
    "x_train = preproc_x(x_train)\n",
    "x_test = preproc_x(x_test)\n",
    "\n",
    "# Preprc the outputs\n",
    "y_train = preproc_y(y_train)\n",
    "y_test = preproc_y(y_test)"
   ]
  },
  {
   "cell_type": "code",
   "execution_count": 5,
   "metadata": {},
   "outputs": [],
   "source": [
    "from keras.layers import BatchNormalization\n",
    "def build_mlp(input_shape, output_units=10, num_neurons=[512, 256, 128]):\n",
    "    input_layer = keras.layers.Input(input_shape)\n",
    "    \n",
    "    for i, n_units in enumerate(num_neurons):\n",
    "        if i == 0:\n",
    "            x = keras.layers.Dense(units=n_units, \n",
    "                                   activation=\"relu\", \n",
    "                                   name=\"hidden_layer\"+str(i+1))(input_layer)\n",
    "            x = BatchNormalization()(x)\n",
    "        else:\n",
    "            x = keras.layers.Dense(units=n_units, \n",
    "                                   activation=\"relu\", \n",
    "                                   name=\"hidden_layer\"+str(i+1))(x)\n",
    "            x = BatchNormalization()(x)\n",
    "    \n",
    "    out = keras.layers.Dense(units=output_units, activation=\"softmax\", name=\"output\")(x)\n",
    "    \n",
    "    model = keras.models.Model(inputs=[input_layer], outputs=[out])\n",
    "    return model"
   ]
  },
  {
   "cell_type": "code",
   "execution_count": 6,
   "metadata": {},
   "outputs": [],
   "source": [
    "LEARNING_RATE = 1e-3\n",
    "EPOCHS = 50\n",
    "BATCH_SIZE = 1024\n",
    "MOMENTUM = 0.95"
   ]
  },
  {
   "cell_type": "code",
   "execution_count": 8,
   "metadata": {},
   "outputs": [
    {
     "name": "stdout",
     "output_type": "stream",
     "text": [
      "_________________________________________________________________\n",
      "Layer (type)                 Output Shape              Param #   \n",
      "=================================================================\n",
      "input_2 (InputLayer)         (None, 3072)              0         \n",
      "_________________________________________________________________\n",
      "hidden_layer1 (Dense)        (None, 512)               1573376   \n",
      "_________________________________________________________________\n",
      "batch_normalization_4 (Batch (None, 512)               2048      \n",
      "_________________________________________________________________\n",
      "hidden_layer2 (Dense)        (None, 256)               131328    \n",
      "_________________________________________________________________\n",
      "batch_normalization_5 (Batch (None, 256)               1024      \n",
      "_________________________________________________________________\n",
      "hidden_layer3 (Dense)        (None, 128)               32896     \n",
      "_________________________________________________________________\n",
      "batch_normalization_6 (Batch (None, 128)               512       \n",
      "_________________________________________________________________\n",
      "output (Dense)               (None, 10)                1290      \n",
      "=================================================================\n",
      "Total params: 1,742,474\n",
      "Trainable params: 1,740,682\n",
      "Non-trainable params: 1,792\n",
      "_________________________________________________________________\n",
      "WARNING:tensorflow:From C:\\Users\\Gankinck\\Anaconda3\\lib\\site-packages\\tensorflow\\python\\ops\\math_ops.py:3066: to_int32 (from tensorflow.python.ops.math_ops) is deprecated and will be removed in a future version.\n",
      "Instructions for updating:\n",
      "Use tf.cast instead.\n",
      "Train on 50000 samples, validate on 10000 samples\n",
      "Epoch 1/50\n",
      "50000/50000 [==============================] - 15s 291us/step - loss: 2.1925 - acc: 0.2748 - val_loss: 2.1993 - val_acc: 0.3134\n",
      "Epoch 2/50\n",
      "50000/50000 [==============================] - 11s 220us/step - loss: 1.7349 - acc: 0.3911 - val_loss: 1.8045 - val_acc: 0.3806c\n",
      "Epoch 3/50\n",
      "50000/50000 [==============================] - 10s 199us/step - loss: 1.6153 - acc: 0.4334 - val_loss: 1.6920 - val_acc: 0.4088\n",
      "Epoch 4/50\n",
      "50000/50000 [==============================] - 10s 200us/step - loss: 1.5443 - acc: 0.4574 - val_loss: 1.6182 - val_acc: 0.4304\n",
      "Epoch 5/50\n",
      "50000/50000 [==============================] - 10s 195us/step - loss: 1.4903 - acc: 0.4784 - val_loss: 1.5862 - val_acc: 0.4422\n",
      "Epoch 6/50\n",
      "50000/50000 [==============================] - 10s 196us/step - loss: 1.4462 - acc: 0.4945 - val_loss: 1.5505 - val_acc: 0.4572\n",
      "Epoch 7/50\n",
      "50000/50000 [==============================] - 10s 194us/step - loss: 1.4064 - acc: 0.5082 - val_loss: 1.5357 - val_acc: 0.4618\n",
      "Epoch 8/50\n",
      "50000/50000 [==============================] - 10s 196us/step - loss: 1.3700 - acc: 0.5225 - val_loss: 1.5238 - val_acc: 0.4621\n",
      "Epoch 9/50\n",
      "50000/50000 [==============================] - 10s 195us/step - loss: 1.3383 - acc: 0.5323 - val_loss: 1.5056 - val_acc: 0.4729\n",
      "Epoch 10/50\n",
      "50000/50000 [==============================] - 10s 192us/step - loss: 1.3086 - acc: 0.5444 - val_loss: 1.4937 - val_acc: 0.4745\n",
      "Epoch 11/50\n",
      "50000/50000 [==============================] - 10s 196us/step - loss: 1.2802 - acc: 0.5550 - val_loss: 1.4795 - val_acc: 0.4781\n",
      "Epoch 12/50\n",
      "50000/50000 [==============================] - 10s 194us/step - loss: 1.2536 - acc: 0.5628 - val_loss: 1.4758 - val_acc: 0.4826\n",
      "Epoch 13/50\n",
      "50000/50000 [==============================] - 10s 195us/step - loss: 1.2269 - acc: 0.5747 - val_loss: 1.4656 - val_acc: 0.4840\n",
      "Epoch 14/50\n",
      "50000/50000 [==============================] - 10s 195us/step - loss: 1.2037 - acc: 0.5832 - val_loss: 1.4629 - val_acc: 0.4851\n",
      "Epoch 15/50\n",
      "50000/50000 [==============================] - 10s 195us/step - loss: 1.1787 - acc: 0.5917 - val_loss: 1.4620 - val_acc: 0.4898\n",
      "Epoch 16/50\n",
      "50000/50000 [==============================] - 10s 196us/step - loss: 1.1573 - acc: 0.5993 - val_loss: 1.4617 - val_acc: 0.4901\n",
      "Epoch 17/50\n",
      "50000/50000 [==============================] - 10s 195us/step - loss: 1.1352 - acc: 0.6082 - val_loss: 1.4557 - val_acc: 0.4936\n",
      "Epoch 18/50\n",
      "50000/50000 [==============================] - 10s 193us/step - loss: 1.1120 - acc: 0.6163 - val_loss: 1.4488 - val_acc: 0.4946\n",
      "Epoch 19/50\n",
      "50000/50000 [==============================] - 10s 196us/step - loss: 1.0905 - acc: 0.6250 - val_loss: 1.4505 - val_acc: 0.4906\n",
      "Epoch 20/50\n",
      "50000/50000 [==============================] - 10s 194us/step - loss: 1.0679 - acc: 0.6332 - val_loss: 1.4450 - val_acc: 0.4996\n",
      "Epoch 21/50\n",
      "50000/50000 [==============================] - 10s 196us/step - loss: 1.0474 - acc: 0.6418 - val_loss: 1.4338 - val_acc: 0.4986\n",
      "Epoch 22/50\n",
      "50000/50000 [==============================] - 10s 195us/step - loss: 1.0262 - acc: 0.6495 - val_loss: 1.4480 - val_acc: 0.4922\n",
      "Epoch 23/50\n",
      "50000/50000 [==============================] - 10s 194us/step - loss: 1.0059 - acc: 0.6570 - val_loss: 1.4507 - val_acc: 0.5009\n",
      "Epoch 24/50\n",
      "50000/50000 [==============================] - 10s 196us/step - loss: 0.9846 - acc: 0.6659 - val_loss: 1.4396 - val_acc: 0.5019\n",
      "Epoch 25/50\n",
      "50000/50000 [==============================] - 10s 194us/step - loss: 0.9639 - acc: 0.6731 - val_loss: 1.4629 - val_acc: 0.4998\n",
      "Epoch 26/50\n",
      "50000/50000 [==============================] - 10s 196us/step - loss: 0.9443 - acc: 0.6808 - val_loss: 1.4467 - val_acc: 0.5010\n",
      "Epoch 27/50\n",
      "50000/50000 [==============================] - 10s 196us/step - loss: 0.9248 - acc: 0.6899 - val_loss: 1.4567 - val_acc: 0.4983\n",
      "Epoch 28/50\n",
      "50000/50000 [==============================] - 10s 194us/step - loss: 0.9051 - acc: 0.6986 - val_loss: 1.4687 - val_acc: 0.4963\n",
      "Epoch 29/50\n",
      "50000/50000 [==============================] - 10s 195us/step - loss: 0.8865 - acc: 0.7047 - val_loss: 1.4878 - val_acc: 0.4959\n",
      "Epoch 30/50\n",
      "50000/50000 [==============================] - 10s 195us/step - loss: 0.8666 - acc: 0.7133 - val_loss: 1.4663 - val_acc: 0.5027\n",
      "Epoch 31/50\n",
      "50000/50000 [==============================] - 10s 196us/step - loss: 0.8461 - acc: 0.7201 - val_loss: 1.4724 - val_acc: 0.5070\n",
      "Epoch 32/50\n",
      "50000/50000 [==============================] - 10s 196us/step - loss: 0.8260 - acc: 0.7275 - val_loss: 1.4893 - val_acc: 0.5035\n",
      "Epoch 33/50\n",
      "50000/50000 [==============================] - 10s 195us/step - loss: 0.8094 - acc: 0.7343 - val_loss: 1.4872 - val_acc: 0.5009\n",
      "Epoch 34/50\n",
      "50000/50000 [==============================] - 10s 197us/step - loss: 0.7894 - acc: 0.7426 - val_loss: 1.4804 - val_acc: 0.5068\n",
      "Epoch 35/50\n",
      "50000/50000 [==============================] - 10s 196us/step - loss: 0.7701 - acc: 0.7527 - val_loss: 1.4993 - val_acc: 0.5002\n",
      "Epoch 36/50\n",
      "50000/50000 [==============================] - 10s 193us/step - loss: 0.7532 - acc: 0.7581 - val_loss: 1.5045 - val_acc: 0.4984\n",
      "Epoch 37/50\n",
      "50000/50000 [==============================] - 10s 197us/step - loss: 0.7351 - acc: 0.7646 - val_loss: 1.5081 - val_acc: 0.5054\n",
      "Epoch 38/50\n",
      "50000/50000 [==============================] - 10s 194us/step - loss: 0.7165 - acc: 0.7711 - val_loss: 1.5347 - val_acc: 0.4969\n",
      "Epoch 39/50\n",
      "50000/50000 [==============================] - 10s 196us/step - loss: 0.6975 - acc: 0.7790 - val_loss: 1.5327 - val_acc: 0.5036\n",
      "Epoch 40/50\n",
      "50000/50000 [==============================] - 10s 195us/step - loss: 0.6801 - acc: 0.7852 - val_loss: 1.5471 - val_acc: 0.4994\n",
      "Epoch 41/50\n",
      "50000/50000 [==============================] - 10s 195us/step - loss: 0.6620 - acc: 0.7946 - val_loss: 1.5596 - val_acc: 0.4996\n",
      "Epoch 00041: early stopping\n"
     ]
    }
   ],
   "source": [
    "# 載入 Callbacks\n",
    "from keras.callbacks import EarlyStopping\n",
    "\n",
    "earlystop = EarlyStopping(monitor=\"val_acc\", \n",
    "                          patience=10, \n",
    "                          verbose=1\n",
    "                          )\n",
    "\n",
    "model = build_mlp(input_shape=x_train.shape[1:])\n",
    "model.summary()\n",
    "optimizer = keras.optimizers.SGD(lr=LEARNING_RATE, nesterov=True, momentum=MOMENTUM)\n",
    "model.compile(loss=\"categorical_crossentropy\", metrics=[\"accuracy\"], optimizer=optimizer)\n",
    "\n",
    "model.fit(x_train, y_train, \n",
    "          epochs=EPOCHS, \n",
    "          batch_size=BATCH_SIZE, \n",
    "          validation_data=(x_test, y_test), \n",
    "          shuffle=True,\n",
    "          callbacks=[earlystop]\n",
    "         )\n",
    "\n",
    "# Collect results\n",
    "train_loss = model.history.history[\"loss\"]\n",
    "valid_loss = model.history.history[\"val_loss\"]\n",
    "train_acc = model.history.history[\"acc\"]\n",
    "valid_acc = model.history.history[\"val_acc\"]"
   ]
  },
  {
   "cell_type": "code",
   "execution_count": 9,
   "metadata": {},
   "outputs": [
    {
     "data": {
      "image/png": "[encoded data removed]",
      "text/plain": [
       "<Figure size 432x288 with 1 Axes>"
      ]
     },
     "metadata": {
      "needs_background": "light"
     },
     "output_type": "display_data"
    },
    {
     "data": {
      "image/png": "[encoded data removed]",
      "text/plain": [
       "<Figure size 432x288 with 1 Axes>"
      ]
     },
     "metadata": {
      "needs_background": "light"
     },
     "output_type": "display_data"
    }
   ],
   "source": [
    "plt.plot(range(len(train_loss)), train_loss, label=\"train loss\")\n",
    "plt.plot(range(len(valid_loss)), valid_loss, label=\"valid loss\")\n",
    "plt.legend()\n",
    "plt.title(\"Loss\")\n",
    "plt.show()\n",
    "\n",
    "plt.plot(range(len(train_acc)), train_acc, label=\"train accuracy\")\n",
    "plt.plot(range(len(valid_acc)), valid_acc, label=\"valid accuracy\")\n",
    "plt.legend()\n",
    "plt.title(\"Accuracy\")\n",
    "plt.show()"
   ]
  },
  {
   "cell_type": "code",
   "execution_count": null,
   "metadata": {},
   "outputs": [],
   "source": []
  }
 ],
 "metadata": {
  "kernelspec": {
   "display_name": "Python 3",
   "language": "python",
   "name": "python3"
  },
  "language_info": {
   "codemirror_mode": {
    "name": "ipython",
    "version": 3
   },
   "file_extension": ".py",
   "mimetype": "text/x-python",
   "name": "python",
   "nbconvert_exporter": "python",
   "pygments_lexer": "ipython3",
   "version": "3.7.0"
  }
 },
 "nbformat": 4,
 "nbformat_minor": 2
}
